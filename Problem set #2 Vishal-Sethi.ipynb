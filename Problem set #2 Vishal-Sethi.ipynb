{
 "cells": [
  {
   "cell_type": "markdown",
   "id": "19929e0a",
   "metadata": {},
   "source": [
    "# Sol. 1"
   ]
  },
  {
   "cell_type": "code",
   "execution_count": 15,
   "id": "050ba2ce",
   "metadata": {},
   "outputs": [],
   "source": [
    "a = 0\n",
    "\n",
    "def b(): \n",
    "   global a\n",
    "\n",
    "   a = c(a)\n",
    "def c(a):\n",
    "\n",
    " return a + 2 "
   ]
  },
  {
   "cell_type": "code",
   "execution_count": 16,
   "id": "6843004c",
   "metadata": {},
   "outputs": [
    {
     "data": {
      "text/plain": [
       "6"
      ]
     },
     "execution_count": 16,
     "metadata": {},
     "output_type": "execute_result"
    }
   ],
   "source": [
    ">>> b()\n",
    ">>> b()\n",
    ">>> b()\n",
    ">>> a"
   ]
  },
  {
   "cell_type": "markdown",
   "id": "5b669c61",
   "metadata": {},
   "source": [
    "The initial value of \"a\" is 0 and it is incremented by 2 at each iteration when the function \"b\" is called, which in turn calls the function \"c,\" resulting in the value of \"a\" being 6 once the last expression of \"a\" is evaluated. Additionally, since the variable \"a\" is created outside of the function because it is declared a global variable when the function \"b\" is called, the value of \"a\" will be fixed at the result of the last expression to be evaluated."
   ]
  },
  {
   "cell_type": "markdown",
   "id": "6c22e1fa",
   "metadata": {},
   "source": [
    "# Sol. 2"
   ]
  },
  {
   "cell_type": "code",
   "execution_count": 17,
   "id": "a0feeaff",
   "metadata": {},
   "outputs": [
    {
     "name": "stdout",
     "output_type": "stream",
     "text": [
      "please enter the file name:Vishal\n",
      "Vishal not found!\n"
     ]
    }
   ],
   "source": [
    "file_name = input('please enter the file name:')\n",
    "\n",
    "def filelength(file_name):\n",
    "    try:\n",
    "      file = open(file_name)\n",
    "      contents = file.read()\n",
    "      file.close()\n",
    "      print(len(contents))\n",
    "    except FileNotFoundError:\n",
    "      print( file_name +\" not found!\")\n",
    "      \n",
    "      \n",
    "filelength(file_name)\n"
   ]
  },
  {
   "cell_type": "markdown",
   "id": "5faf3492",
   "metadata": {},
   "source": [
    "# Sol. 3\n",
    "Defining the class named Marsupial"
   ]
  },
  {
   "cell_type": "code",
   "execution_count": 18,
   "id": "97b31a58",
   "metadata": {},
   "outputs": [
    {
     "name": "stdout",
     "output_type": "stream",
     "text": [
      "['doll', 'firetruck', 'kitten']\n",
      "I am a Kangaroo located at coordinates (0,0)\n",
      "I am a Kangaroo located at coordinates (3,0)\n"
     ]
    }
   ],
   "source": [
    "class Marsupial():\n",
    "     #define function called __inti__ and give parameter MyObject.\n",
    "     #Myobect is a precent instance of class\n",
    "  def __init__(MyObject):\n",
    "     #create a list to store items. \n",
    "    MyObject.list = []\n",
    "     #define function put_in_pouch and give values for Myitem\n",
    "  def put_in_pouch(MyObject, Myitem):\n",
    "     #use append to add value to the list.\n",
    "    MyObject.list.append(Myitem)\n",
    "     #define pouch_content function\n",
    "  def pouch_contents(MyObject):\n",
    "    return MyObject.list\n",
    "\n",
    "\n",
    "## creating the subclass of Marsupial named Kangaroo.\n",
    "class Kangaroo(Marsupial):\n",
    "\n",
    "  def __init__(MyObject,x,y):\n",
    "  #extending the Marsupial __init__ constructor to take,\n",
    "  #as input, the coordinates x and y of the Kangaroo object,\n",
    "    Marsupial.__init__(MyObject)\n",
    "    MyObject.x = x\n",
    "    MyObject.y = y\n",
    "   #using jump method \n",
    "  def jump(MyObject,dx,dy):\n",
    "    MyObject.x += dx\n",
    "    MyObject.y += dy\n",
    "    #overloading the __str__ operator \n",
    "  def __str__(MyObject):\n",
    "\n",
    "    return 'I am a Kangaroo located at coordinates ({},{})'.format(MyObject.x,MyObject.y)\n",
    "\n",
    "m = Marsupial()\n",
    "m.put_in_pouch('doll')\n",
    "m.put_in_pouch('firetruck')\n",
    "m.put_in_pouch('kitten')\n",
    "print(m.pouch_contents())\n",
    "\n",
    "\n",
    "k = Kangaroo(0,0)\n",
    "print(k)\n",
    "k.put_in_pouch('doll')\n",
    "k.put_in_pouch('firetruck')\n",
    "k.put_in_pouch('kitten')\n",
    "k.pouch_contents()\n",
    "k.jump(1,0)\n",
    "k.jump(1,0)\n",
    "k.jump(1,0)\n",
    "print(k)"
   ]
  },
  {
   "cell_type": "markdown",
   "id": "718e9c58",
   "metadata": {},
   "source": [
    "# Sol. 4"
   ]
  },
  {
   "cell_type": "code",
   "execution_count": 19,
   "id": "01d5baf2",
   "metadata": {},
   "outputs": [],
   "source": [
    "def collatz(x):\n",
    "\n",
    "    print(x)\n",
    "    if x==1:\n",
    "        return \n",
    "    elif x%2==0:\n",
    "        return collatz(x//2)  \n",
    "    else:\n",
    "        return collatz(x*3+1)  "
   ]
  },
  {
   "cell_type": "code",
   "execution_count": 20,
   "id": "e7f1b9be",
   "metadata": {},
   "outputs": [
    {
     "name": "stdout",
     "output_type": "stream",
     "text": [
      "10\n",
      "5\n",
      "16\n",
      "8\n",
      "4\n",
      "2\n",
      "1\n"
     ]
    },
    {
     "data": {
      "text/plain": [
       "1"
      ]
     },
     "execution_count": 20,
     "metadata": {},
     "output_type": "execute_result"
    }
   ],
   "source": [
    ">>> collatz(10)\n",
    "10\n",
    "5\n",
    "16\n",
    "8\n",
    "4\n",
    "2\n",
    "1"
   ]
  },
  {
   "cell_type": "markdown",
   "id": "7c4c1dc1",
   "metadata": {},
   "source": [
    "# Sol. 5"
   ]
  },
  {
   "cell_type": "code",
   "execution_count": 21,
   "id": "6fb6bad5",
   "metadata": {},
   "outputs": [],
   "source": [
    "def binary(n):\n",
    "    if n < 2:\n",
    "        print (n)\n",
    "    else:\n",
    "       num = ''\n",
    "       while n > 0:\n",
    "           num = str((n % 2)) + num\n",
    "           n //= 2\n",
    "       return num\n",
    "    "
   ]
  },
  {
   "cell_type": "code",
   "execution_count": 22,
   "id": "9d62015d",
   "metadata": {},
   "outputs": [
    {
     "name": "stdout",
     "output_type": "stream",
     "text": [
      "0\n",
      "1\n"
     ]
    },
    {
     "data": {
      "text/plain": [
       "'1001'"
      ]
     },
     "execution_count": 22,
     "metadata": {},
     "output_type": "execute_result"
    }
   ],
   "source": [
    ">>> binary(0)\n",
    "'0'\n",
    ">>> binary(1)\n",
    "'1'\n",
    ">>> binary(2)\n",
    "'01'\n",
    ">>> binary(9)\n",
    "'1001'"
   ]
  },
  {
   "cell_type": "markdown",
   "id": "2b88a4ac",
   "metadata": {},
   "source": [
    "# Sol. 6"
   ]
  },
  {
   "cell_type": "code",
   "execution_count": 26,
   "id": "e0499c60",
   "metadata": {},
   "outputs": [
    {
     "ename": "FileNotFoundError",
     "evalue": "[Errno 2] No such file or directory: 'w3c.html'",
     "output_type": "error",
     "traceback": [
      "\u001b[1;31m---------------------------------------------------------------------------\u001b[0m",
      "\u001b[1;31mFileNotFoundError\u001b[0m                         Traceback (most recent call last)",
      "Input \u001b[1;32mIn [26]\u001b[0m, in \u001b[0;36m<cell line: 12>\u001b[1;34m()\u001b[0m\n\u001b[0;32m      8\u001b[0m         \u001b[38;5;28;01mif\u001b[39;00m \u001b[38;5;28mself\u001b[39m\u001b[38;5;241m.\u001b[39mhead:\n\u001b[0;32m      9\u001b[0m             \u001b[38;5;28mprint\u001b[39m(data)\n\u001b[1;32m---> 12\u001b[0m infile \u001b[38;5;241m=\u001b[39m \u001b[38;5;28;43mopen\u001b[39;49m\u001b[43m(\u001b[49m\u001b[38;5;124;43m\"\u001b[39;49m\u001b[38;5;124;43mw3c.html\u001b[39;49m\u001b[38;5;124;43m\"\u001b[39;49m\u001b[43m,\u001b[49m\u001b[43m \u001b[49m\u001b[38;5;124;43m\"\u001b[39;49m\u001b[38;5;124;43mr\u001b[39;49m\u001b[38;5;124;43m\"\u001b[39;49m\u001b[43m)\u001b[49m\n\u001b[0;32m     13\u001b[0m content \u001b[38;5;241m=\u001b[39m infile\u001b[38;5;241m.\u001b[39mread()\n\u001b[0;32m     14\u001b[0m infile\u001b[38;5;241m.\u001b[39mclose()\n",
      "\u001b[1;31mFileNotFoundError\u001b[0m: [Errno 2] No such file or directory: 'w3c.html'"
     ]
    }
   ],
   "source": [
    "from html.parser import HTMLParser\n",
    "class HeadingParser(HTMLParser):\n",
    "    head = False\n",
    "    def handle_starttag(self, tag, attrs):\n",
    "        if tag == \"h1\":\n",
    "            self.head = True\n",
    "    def handle_data(self, data):\n",
    "        if self.head:\n",
    "            print(data)\n",
    "\n",
    "\n",
    "infile = open(\"w3c.html\", \"r\")\n",
    "content = infile.read()\n",
    "infile.close()\n",
    "hp = HeadingParser()\n",
    "hp.feed(content)"
   ]
  },
  {
   "cell_type": "markdown",
   "id": "26f7cb1c",
   "metadata": {},
   "source": [
    "# Sol. 8"
   ]
  },
  {
   "cell_type": "code",
   "execution_count": 27,
   "id": "c4707194",
   "metadata": {},
   "outputs": [
    {
     "ename": "SyntaxError",
     "evalue": "invalid syntax (677480316.py, line 1)",
     "output_type": "error",
     "traceback": [
      "\u001b[1;36m  Input \u001b[1;32mIn [27]\u001b[1;36m\u001b[0m\n\u001b[1;33m    SELECT Tempreture from Table;\u001b[0m\n\u001b[1;37m           ^\u001b[0m\n\u001b[1;31mSyntaxError\u001b[0m\u001b[1;31m:\u001b[0m invalid syntax\n"
     ]
    }
   ],
   "source": [
    "SELECT Tempreture from Table;\n",
    "SELECT distinct City from Table;\n",
    "SELECT* from Table where Country='India';\n",
    "SELECT* from Table where Season='Fall';\n",
    "SELECT City, Country where Rainfall >=200 and Rainfall <=400;\n",
    "SELECT City, Country from Table where Temprature > 20 order by Temprature ASC;\n",
    "SELECT count(rainfall) from Table where City='Cairo';\n",
    "SELECT rainfall,count(rainfall) from Table group by Rainfall; "
   ]
  },
  {
   "cell_type": "markdown",
   "id": "9985734a",
   "metadata": {},
   "source": [
    "OR TRYING A NEW METHOD"
   ]
  },
  {
   "cell_type": "code",
   "execution_count": 28,
   "id": "d3632c33",
   "metadata": {},
   "outputs": [],
   "source": [
    "#Importing pandas in jupyter notebook\n",
    "import pandas"
   ]
  },
  {
   "cell_type": "code",
   "execution_count": 29,
   "id": "393f74d5",
   "metadata": {},
   "outputs": [],
   "source": [
    "dateset = pandas.read_excel(\"weather_temp.xlsx\")"
   ]
  },
  {
   "cell_type": "code",
   "execution_count": 30,
   "id": "41fea757",
   "metadata": {},
   "outputs": [],
   "source": [
    "import pandas as pd"
   ]
  },
  {
   "cell_type": "code",
   "execution_count": 31,
   "id": "e34157ec",
   "metadata": {},
   "outputs": [],
   "source": [
    "dataset = pd.read_excel(\"weather_temp.xlsx\")"
   ]
  },
  {
   "cell_type": "code",
   "execution_count": 32,
   "id": "6e3e7ffc",
   "metadata": {},
   "outputs": [
    {
     "data": {
      "text/html": [
       "<div>\n",
       "<style scoped>\n",
       "    .dataframe tbody tr th:only-of-type {\n",
       "        vertical-align: middle;\n",
       "    }\n",
       "\n",
       "    .dataframe tbody tr th {\n",
       "        vertical-align: top;\n",
       "    }\n",
       "\n",
       "    .dataframe thead th {\n",
       "        text-align: right;\n",
       "    }\n",
       "</style>\n",
       "<table border=\"1\" class=\"dataframe\">\n",
       "  <thead>\n",
       "    <tr style=\"text-align: right;\">\n",
       "      <th></th>\n",
       "      <th>City</th>\n",
       "      <th>Country</th>\n",
       "      <th>Season</th>\n",
       "      <th>Temperature (C)</th>\n",
       "      <th>Rainfall (mm)</th>\n",
       "    </tr>\n",
       "  </thead>\n",
       "  <tbody>\n",
       "    <tr>\n",
       "      <th>0</th>\n",
       "      <td>Mumbai</td>\n",
       "      <td>India</td>\n",
       "      <td>Winter</td>\n",
       "      <td>24.8</td>\n",
       "      <td>5.9</td>\n",
       "    </tr>\n",
       "    <tr>\n",
       "      <th>1</th>\n",
       "      <td>Mumbai</td>\n",
       "      <td>India</td>\n",
       "      <td>Spring</td>\n",
       "      <td>28.4</td>\n",
       "      <td>16.2</td>\n",
       "    </tr>\n",
       "    <tr>\n",
       "      <th>2</th>\n",
       "      <td>Mumbai</td>\n",
       "      <td>India</td>\n",
       "      <td>Summer</td>\n",
       "      <td>27.9</td>\n",
       "      <td>1549.4</td>\n",
       "    </tr>\n",
       "    <tr>\n",
       "      <th>3</th>\n",
       "      <td>Mumbai</td>\n",
       "      <td>India</td>\n",
       "      <td>Fall</td>\n",
       "      <td>27.6</td>\n",
       "      <td>346.0</td>\n",
       "    </tr>\n",
       "    <tr>\n",
       "      <th>4</th>\n",
       "      <td>London</td>\n",
       "      <td>United Kingdom</td>\n",
       "      <td>Winter</td>\n",
       "      <td>4.2</td>\n",
       "      <td>207.7</td>\n",
       "    </tr>\n",
       "    <tr>\n",
       "      <th>5</th>\n",
       "      <td>London</td>\n",
       "      <td>United Kingdom</td>\n",
       "      <td>Spring</td>\n",
       "      <td>8.3</td>\n",
       "      <td>169.6</td>\n",
       "    </tr>\n",
       "    <tr>\n",
       "      <th>6</th>\n",
       "      <td>London</td>\n",
       "      <td>United Kingdom</td>\n",
       "      <td>Summer</td>\n",
       "      <td>15.7</td>\n",
       "      <td>157.0</td>\n",
       "    </tr>\n",
       "    <tr>\n",
       "      <th>7</th>\n",
       "      <td>London</td>\n",
       "      <td>United Kingdom</td>\n",
       "      <td>Fall</td>\n",
       "      <td>10.4</td>\n",
       "      <td>218.5</td>\n",
       "    </tr>\n",
       "    <tr>\n",
       "      <th>8</th>\n",
       "      <td>Cairo</td>\n",
       "      <td>Egypt</td>\n",
       "      <td>Winter</td>\n",
       "      <td>13.6</td>\n",
       "      <td>16.5</td>\n",
       "    </tr>\n",
       "    <tr>\n",
       "      <th>9</th>\n",
       "      <td>Cairo</td>\n",
       "      <td>Egypt</td>\n",
       "      <td>Spring</td>\n",
       "      <td>20.7</td>\n",
       "      <td>6.5</td>\n",
       "    </tr>\n",
       "    <tr>\n",
       "      <th>10</th>\n",
       "      <td>Cairo</td>\n",
       "      <td>Egypt</td>\n",
       "      <td>Summer</td>\n",
       "      <td>27.7</td>\n",
       "      <td>0.1</td>\n",
       "    </tr>\n",
       "    <tr>\n",
       "      <th>11</th>\n",
       "      <td>Cairo</td>\n",
       "      <td>Egypt</td>\n",
       "      <td>Fall</td>\n",
       "      <td>22.2</td>\n",
       "      <td>4.5</td>\n",
       "    </tr>\n",
       "  </tbody>\n",
       "</table>\n",
       "</div>"
      ],
      "text/plain": [
       "      City           Country    Season    Temperature (C)  Rainfall (mm)\n",
       "0   Mumbai             India    Winter               24.8            5.9\n",
       "1   Mumbai             India      Spring             28.4           16.2\n",
       "2   Mumbai             India      Summer             27.9         1549.4\n",
       "3   Mumbai             India        Fall             27.6          346.0\n",
       "4   London    United Kingdom      Winter              4.2          207.7\n",
       "5   London    United Kingdom      Spring              8.3          169.6\n",
       "6   London    United Kingdom      Summer             15.7          157.0\n",
       "7   London    United Kingdom        Fall             10.4          218.5\n",
       "8    Cairo             Egypt      Winter             13.6           16.5\n",
       "9    Cairo             Egypt      Spring             20.7            6.5\n",
       "10   Cairo             Egypt      Summer             27.7            0.1\n",
       "11   Cairo             Egypt        Fall             22.2            4.5"
      ]
     },
     "execution_count": 32,
     "metadata": {},
     "output_type": "execute_result"
    }
   ],
   "source": [
    "dataset"
   ]
  },
  {
   "cell_type": "markdown",
   "id": "fbbc42fd",
   "metadata": {},
   "source": [
    "Reference- (https://www.youtube.com/watch?v=8rfH7al7PgU&ab_channel=LearnUrself123)"
   ]
  },
  {
   "cell_type": "markdown",
   "id": "d8207a35",
   "metadata": {},
   "source": [
    "# Sol. 9"
   ]
  },
  {
   "cell_type": "code",
   "execution_count": 33,
   "id": "47745135",
   "metadata": {},
   "outputs": [
    {
     "name": "stdout",
     "output_type": "stream",
     "text": [
      "['THE', 'QUICK', 'BROWN', 'FOX', 'JUMPS', 'OVER', 'THE', 'LAZY', 'DOG']\n",
      "['the', 'quick', 'brown', 'fox', 'jumps', 'over', 'the', 'lazy', 'dog']\n",
      "[3, 5, 5, 3, 5, 4, 3, 4, 3]\n",
      "[['THE', 'the', 3], ['QUICK', 'quick', 5], ['BROWN', 'brown', 5], ['FOX', 'fox', 3], ['JUMPS', 'jumps', 5], ['OVER', 'over', 4], ['THE', 'the', 3], ['LAZY', 'lazy', 4], ['DOG', 'dog', 3]]\n",
      "['quick', 'brown', 'jumps', 'over', 'lazy']\n"
     ]
    }
   ],
   "source": [
    "words = ['The', 'quick', 'brown', 'fox', 'jumps', 'over', 'the', 'lazy', 'dog']\n",
    "\n",
    "#Changing to uppercase.\n",
    "UpperCaselist = [w.upper() for w in words]\n",
    "\n",
    "#Changing to lowercase\n",
    "LowerCaselist = [w.lower() for w in words]\n",
    "\n",
    "#length for each word\n",
    "Lengthlist= [len(w) for w in words]\n",
    "\n",
    "#list where we can lowercase, uppercase and count the words\n",
    "LowerUpperLenList= [[w.upper(),w.lower(),len(w)] for w in words]\n",
    "\n",
    "#The list of words in list words containing 4 or more characters\n",
    "MoreChar = [i.lower() for i in words if len(i)>=4]\n",
    "\n",
    "\n",
    "print (UpperCaselist)\n",
    "print (LowerCaselist)\n",
    "print (Lengthlist)\n",
    "print (LowerUpperLenList)\n",
    "print (MoreChar)"
   ]
  }
 ],
 "metadata": {
  "kernelspec": {
   "display_name": "Python 3 (ipykernel)",
   "language": "python",
   "name": "python3"
  },
  "language_info": {
   "codemirror_mode": {
    "name": "ipython",
    "version": 3
   },
   "file_extension": ".py",
   "mimetype": "text/x-python",
   "name": "python",
   "nbconvert_exporter": "python",
   "pygments_lexer": "ipython3",
   "version": "3.9.12"
  }
 },
 "nbformat": 4,
 "nbformat_minor": 5
}
